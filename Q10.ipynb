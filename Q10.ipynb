{
 "cells": [
  {
   "cell_type": "code",
   "execution_count": 8,
   "id": "0f6aa4ba",
   "metadata": {},
   "outputs": [
    {
     "name": "stdout",
     "output_type": "stream",
     "text": [
      "the smallest number in stack is: 3\n"
     ]
    }
   ],
   "source": [
    "# Q10. Write a program to find the smallest number using a stack.\n",
    "\n",
    "a=[]\n",
    "def Stack(x):\n",
    "    a.append(x)\n",
    "\n",
    "\n",
    "Stack(5)\n",
    "Stack(4)\n",
    "Stack(3)\n",
    "Stack(7)\n",
    "Stack(8)\n",
    "\n",
    "print(\"the smallest number in stack is:\",min(a))"
   ]
  }
 ],
 "metadata": {
  "kernelspec": {
   "display_name": "Python 3 (ipykernel)",
   "language": "python",
   "name": "python3"
  },
  "language_info": {
   "codemirror_mode": {
    "name": "ipython",
    "version": 3
   },
   "file_extension": ".py",
   "mimetype": "text/x-python",
   "name": "python",
   "nbconvert_exporter": "python",
   "pygments_lexer": "ipython3",
   "version": "3.9.12"
  }
 },
 "nbformat": 4,
 "nbformat_minor": 5
}
