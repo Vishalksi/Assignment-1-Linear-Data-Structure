{
 "cells": [
  {
   "cell_type": "code",
   "execution_count": 9,
   "id": "44fd2fc5",
   "metadata": {},
   "outputs": [
    {
     "name": "stdout",
     "output_type": "stream",
     "text": [
      "enter the first string: apple\n",
      "enter the second string: elppa\n",
      "apple  is rotation of  elppa  and  elppa  is rotation of  apple\n"
     ]
    }
   ],
   "source": [
    "# Q3. Write a program to check if two strings are a rotation of each other?\n",
    "\n",
    "a=input(\"enter the first string: \")\n",
    "b=input(\"enter the second string: \")\n",
    "c=\"\"\n",
    "for i in a:\n",
    "    c=i+c\n",
    "if c==b:\n",
    "    print(a,\" is rotation of \",b,\" and \",b,\" is rotation of \",a)\n",
    "else:\n",
    "    print(a,\" is not rotation of \",b,\" and \",b,\" is not rotation of \",a)"
   ]
  }
 ],
 "metadata": {
  "kernelspec": {
   "display_name": "Python 3 (ipykernel)",
   "language": "python",
   "name": "python3"
  },
  "language_info": {
   "codemirror_mode": {
    "name": "ipython",
    "version": 3
   },
   "file_extension": ".py",
   "mimetype": "text/x-python",
   "name": "python",
   "nbconvert_exporter": "python",
   "pygments_lexer": "ipython3",
   "version": "3.9.12"
  }
 },
 "nbformat": 4,
 "nbformat_minor": 5
}
