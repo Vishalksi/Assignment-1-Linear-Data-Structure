{
 "cells": [
  {
   "cell_type": "code",
   "execution_count": 9,
   "id": "94062a56",
   "metadata": {},
   "outputs": [
    {
     "name": "stdout",
     "output_type": "stream",
     "text": [
      "enter the number of disc :3\n",
      "Move disk 1 from rod source to rod destination\n",
      "Move disk 2 from rod source to rod midian\n",
      "Move disk 1 from rod destination to rod midian\n",
      "Move disk 3 from rod source to rod destination\n",
      "Move disk 1 from rod midian to rod source\n",
      "Move disk 2 from rod midian to rod destination\n",
      "Move disk 1 from rod source to rod destination\n"
     ]
    }
   ],
   "source": [
    "# Q5. Read about the Tower of Hanoi algorithm. Write a program to implement it.\n",
    "\n",
    "def towerofhanoi(n, from_rod, to_rod, mid_rod):\n",
    "    if n == 0:\n",
    "        return\n",
    "    towerofhanoi(n-1, from_rod, mid_rod, to_rod)\n",
    "    print(\"Move disk\", n, \"from rod\", from_rod, \"to rod\", to_rod)\n",
    "    towerofhanoi(n-1, mid_rod, to_rod, from_rod)\n",
    "    \n",
    "N = int(input(\"enter the number of disc :\"))\n",
    "TowerOfHanoi(N, 'source', 'destination', 'midian')"
   ]
  }
 ],
 "metadata": {
  "kernelspec": {
   "display_name": "Python 3 (ipykernel)",
   "language": "python",
   "name": "python3"
  },
  "language_info": {
   "codemirror_mode": {
    "name": "ipython",
    "version": 3
   },
   "file_extension": ".py",
   "mimetype": "text/x-python",
   "name": "python",
   "nbconvert_exporter": "python",
   "pygments_lexer": "ipython3",
   "version": "3.9.12"
  }
 },
 "nbformat": 4,
 "nbformat_minor": 5
}
